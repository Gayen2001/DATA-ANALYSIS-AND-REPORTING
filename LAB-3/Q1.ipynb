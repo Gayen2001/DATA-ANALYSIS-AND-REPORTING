{
 "cells": [
  {
   "cell_type": "code",
   "execution_count": 24,
   "metadata": {},
   "outputs": [
    {
     "name": "stdout",
     "output_type": "stream",
     "text": [
      "    NOC  Gold  Silver  Bronze  Total\n",
      "0   USA    36      39      26    101\n",
      "1   CHN    32      17      15     64\n",
      "2   RUS    28      26      36     90\n",
      "3   AUS    17      16      17     50\n",
      "4   JPN    16       9      12     37\n",
      "..  ...   ...     ...     ...    ...\n",
      "69  VEN     0       0       2      2\n",
      "70  SYR     0       0       1      1\n",
      "71  TTO     0       0       1      1\n",
      "72  ERI     0       0       1      1\n",
      "73  MGL     0       0       1      1\n",
      "\n",
      "[74 rows x 5 columns]\n"
     ]
    }
   ],
   "source": [
    "import pandas as pd\n",
    "df=pd.read_csv(\"E:\\MY PROGRAMMING JOURNEY\\DATA-ANALYSIS-AND-REPORTING\\LAB-3\\Athens 2004 Olympics Nations Medals.csv\")\n",
    "print(df)\n"
   ]
  },
  {
   "cell_type": "code",
   "execution_count": 27,
   "metadata": {},
   "outputs": [
    {
     "name": "stdout",
     "output_type": "stream",
     "text": [
      "            Gold     Silver     Bronze       Total\n",
      "count  74.000000  74.000000  74.000000   74.000000\n",
      "mean    4.067568   4.067568   4.418919   12.554054\n",
      "std     6.918966   6.318772   6.274556   18.792407\n",
      "min     0.000000   0.000000   0.000000    1.000000\n",
      "25%     1.000000   1.000000   1.000000    3.000000\n",
      "50%     2.000000   2.000000   2.000000    5.000000\n",
      "75%     3.750000   4.750000   5.000000   12.000000\n",
      "max    36.000000  39.000000  36.000000  101.000000\n"
     ]
    }
   ],
   "source": [
    "print (df.describe())"
   ]
  },
  {
   "cell_type": "code",
   "execution_count": 29,
   "metadata": {},
   "outputs": [
    {
     "name": "stdout",
     "output_type": "stream",
     "text": [
      "<bound method IndexOpsMixin.value_counts of 0     USA\n",
      "1     CHN\n",
      "2     RUS\n",
      "3     AUS\n",
      "4     JPN\n",
      "     ... \n",
      "69    VEN\n",
      "70    SYR\n",
      "71    TTO\n",
      "72    ERI\n",
      "73    MGL\n",
      "Name: NOC, Length: 74, dtype: object>\n"
     ]
    }
   ],
   "source": [
    "print(df['NOC'].value_counts)"
   ]
  }
 ],
 "metadata": {
  "kernelspec": {
   "display_name": "base",
   "language": "python",
   "name": "python3"
  },
  "language_info": {
   "codemirror_mode": {
    "name": "ipython",
    "version": 3
   },
   "file_extension": ".py",
   "mimetype": "text/x-python",
   "name": "python",
   "nbconvert_exporter": "python",
   "pygments_lexer": "ipython3",
   "version": "3.11.7"
  }
 },
 "nbformat": 4,
 "nbformat_minor": 2
}
