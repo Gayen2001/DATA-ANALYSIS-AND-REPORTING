{
 "cells": [
  {
   "cell_type": "markdown",
   "metadata": {},
   "source": [
    "Q-2:Specify which column should be used as the index when reading a CSV file"
   ]
  },
  {
   "cell_type": "code",
   "execution_count": 11,
   "metadata": {},
   "outputs": [],
   "source": [
    "import pandas as pd \n",
    "df=pd.read_csv(\"2022_olympics.csv\",index_col=0)"
   ]
  },
  {
   "cell_type": "markdown",
   "metadata": {},
   "source": [
    "Display the DataFrame"
   ]
  },
  {
   "cell_type": "code",
   "execution_count": 12,
   "metadata": {},
   "outputs": [
    {
     "name": "stdout",
     "output_type": "stream",
     "text": [
      "     Gold  Silver  Bronze  Total\n",
      "NOC                             \n",
      "NOR    16       8      13     37\n",
      "GER    12      10       5     27\n",
      "USA     8      10       7     25\n",
      "CHN     9       4       2     15\n",
      "SWE     8       5       5     18\n",
      "NED     8       5       4     17\n",
      "AUT     7       7       4     18\n",
      "SUI     7       2       6     15\n",
      "ROC     6      12      14     32\n",
      "FRA     5       7       2     14\n",
      "CAN     4       8      14     26\n",
      "JPN     3       6       9     18\n",
      "ITA     2       7       8     17\n",
      "KOR     2       5       2      9\n",
      "SLO     2       3       2      7\n",
      "FIN     2       2       4      8\n",
      "NZL     2       1       0      3\n",
      "AUS     1       2       1      4\n",
      "GBR     1       1       0      2\n",
      "HUN     1       0       2      3\n",
      "CZE     1       0       1      2\n",
      "SVK     1       0       1      2\n",
      "BLR     0       2       0      2\n",
      "ESP     0       1       0      1\n",
      "UKR     0       1       0      1\n",
      "BEL     0       1       0      1\n",
      "EST     0       0       1      1\n",
      "LVA     0       0       1      1\n",
      "POL     0       0       1      1\n"
     ]
    }
   ],
   "source": [
    "print(df)"
   ]
  },
  {
   "cell_type": "code",
   "execution_count": null,
   "metadata": {},
   "outputs": [],
   "source": []
  }
 ],
 "metadata": {
  "kernelspec": {
   "display_name": "base",
   "language": "python",
   "name": "python3"
  },
  "language_info": {
   "codemirror_mode": {
    "name": "ipython",
    "version": 3
   },
   "file_extension": ".py",
   "mimetype": "text/x-python",
   "name": "python",
   "nbconvert_exporter": "python",
   "pygments_lexer": "ipython3",
   "version": "3.11.7"
  }
 },
 "nbformat": 4,
 "nbformat_minor": 2
}
