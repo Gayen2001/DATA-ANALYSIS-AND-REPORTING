{
 "cells": [
  {
   "cell_type": "markdown",
   "metadata": {},
   "source": [
    "Q-3:Read only specify column from a CSV file"
   ]
  },
  {
   "cell_type": "code",
   "execution_count": 6,
   "metadata": {},
   "outputs": [],
   "source": [
    "import pandas as pd \n",
    "# Read only the first and third columns (index 0 and 2)\n",
    "df=pd.read_csv(\"2022_olympics.csv\",usecols=[0])"
   ]
  },
  {
   "cell_type": "code",
   "execution_count": 7,
   "metadata": {},
   "outputs": [
    {
     "name": "stdout",
     "output_type": "stream",
     "text": [
      "    NOC\n",
      "0   NOR\n",
      "1   GER\n",
      "2   USA\n",
      "3   CHN\n",
      "4   SWE\n",
      "5   NED\n",
      "6   AUT\n",
      "7   SUI\n",
      "8   ROC\n",
      "9   FRA\n",
      "10  CAN\n",
      "11  JPN\n",
      "12  ITA\n",
      "13  KOR\n",
      "14  SLO\n",
      "15  FIN\n",
      "16  NZL\n",
      "17  AUS\n",
      "18  GBR\n",
      "19  HUN\n",
      "20  CZE\n",
      "21  SVK\n",
      "22  BLR\n",
      "23  ESP\n",
      "24  UKR\n",
      "25  BEL\n",
      "26  EST\n",
      "27  LVA\n",
      "28  POL\n"
     ]
    }
   ],
   "source": [
    "print(df)"
   ]
  },
  {
   "cell_type": "code",
   "execution_count": null,
   "metadata": {},
   "outputs": [],
   "source": []
  }
 ],
 "metadata": {
  "kernelspec": {
   "display_name": "base",
   "language": "python",
   "name": "python3"
  },
  "language_info": {
   "codemirror_mode": {
    "name": "ipython",
    "version": 3
   },
   "file_extension": ".py",
   "mimetype": "text/x-python",
   "name": "python",
   "nbconvert_exporter": "python",
   "pygments_lexer": "ipython3",
   "version": "3.11.7"
  }
 },
 "nbformat": 4,
 "nbformat_minor": 2
}
